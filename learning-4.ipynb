{
 "cells": [
  {
   "cell_type": "code",
   "execution_count": 2,
   "id": "824ee7b2-1aa8-4839-880a-a03039abf383",
   "metadata": {
    "tags": []
   },
   "outputs": [],
   "source": [
    "import torch\n",
    "import torchvision\n",
    "from torch.utils.data import Dataset, DataLoader\n",
    "import numpy as np\n",
    "import math"
   ]
  },
  {
   "cell_type": "code",
   "execution_count": 3,
   "id": "98ea5e27-1845-4fc5-b87b-391889c20d02",
   "metadata": {
    "tags": []
   },
   "outputs": [],
   "source": [
    "class WineDataset(Dataset):\n",
    "    \n",
    "    def __init__(self):\n",
    "        xy = np.loadtxt('wine.csv',  delimiter=',', dtype=np.float32, skiprows=1)\n",
    "        self.n_samples = xy.shape[0]\n",
    "        \n",
    "        self.x_data = torch.from_numpy(xy[:, 1:])\n",
    "        self.y_data = torch.from_numpy(xy[:, [0]])\n",
    "        \n",
    "    def __getitem__(self, index):\n",
    "        return self.x_data[index], self.y_data[index]\n",
    "        \n",
    "    def __len__(self):\n",
    "        return self.n_samples"
   ]
  },
  {
   "cell_type": "code",
   "execution_count": 4,
   "id": "4e1ad4ba-f0d1-42ea-ad39-5a90b08fe68b",
   "metadata": {
    "tags": []
   },
   "outputs": [
    {
     "name": "stdout",
     "output_type": "stream",
     "text": [
      "tensor([1.4230e+01, 1.7100e+00, 2.4300e+00, 1.5600e+01, 1.2700e+02, 2.8000e+00,\n",
      "        3.0600e+00, 2.8000e-01, 2.2900e+00, 5.6400e+00, 1.0400e+00, 3.9200e+00,\n",
      "        1.0650e+03]) tensor([1.])\n"
     ]
    }
   ],
   "source": [
    "dataset = WineDataset()\n",
    "first_data = dataset[0]\n",
    "features, labels = first_data\n",
    "print(features, labels)"
   ]
  },
  {
   "cell_type": "code",
   "execution_count": 10,
   "id": "f510a546-d64c-4720-81d0-72399dd9cb7c",
   "metadata": {
    "tags": []
   },
   "outputs": [],
   "source": [
    "data_loader = DataLoader(dataset=dataset,batch_size=4, shuffle=True, num_workers=0)"
   ]
  },
  {
   "cell_type": "code",
   "execution_count": 11,
   "id": "07d6ba3f-7133-4b90-ba78-6d179b43cb44",
   "metadata": {
    "tags": []
   },
   "outputs": [
    {
     "name": "stdout",
     "output_type": "stream",
     "text": [
      "tensor([[1.4200e+01, 1.7600e+00, 2.4500e+00, 1.5200e+01, 1.1200e+02, 3.2700e+00,\n",
      "         3.3900e+00, 3.4000e-01, 1.9700e+00, 6.7500e+00, 1.0500e+00, 2.8500e+00,\n",
      "         1.4500e+03],\n",
      "        [1.2370e+01, 1.1300e+00, 2.1600e+00, 1.9000e+01, 8.7000e+01, 3.5000e+00,\n",
      "         3.1000e+00, 1.9000e-01, 1.8700e+00, 4.4500e+00, 1.2200e+00, 2.8700e+00,\n",
      "         4.2000e+02],\n",
      "        [1.3820e+01, 1.7500e+00, 2.4200e+00, 1.4000e+01, 1.1100e+02, 3.8800e+00,\n",
      "         3.7400e+00, 3.2000e-01, 1.8700e+00, 7.0500e+00, 1.0100e+00, 3.2600e+00,\n",
      "         1.1900e+03],\n",
      "        [1.4190e+01, 1.5900e+00, 2.4800e+00, 1.6500e+01, 1.0800e+02, 3.3000e+00,\n",
      "         3.9300e+00, 3.2000e-01, 1.8600e+00, 8.7000e+00, 1.2300e+00, 2.8200e+00,\n",
      "         1.6800e+03]]) tensor([[1.],\n",
      "        [2.],\n",
      "        [1.],\n",
      "        [1.]])\n"
     ]
    }
   ],
   "source": [
    "dataiter = iter(data_loader)\n",
    "data = next(dataiter)\n",
    "features, labels = data\n",
    "print(features, labels)"
   ]
  },
  {
   "cell_type": "code",
   "execution_count": 12,
   "id": "df9fde35-3879-4124-b6a8-668f1c4351a1",
   "metadata": {
    "tags": []
   },
   "outputs": [
    {
     "name": "stdout",
     "output_type": "stream",
     "text": [
      "178 45\n"
     ]
    }
   ],
   "source": [
    "num_epochs = 2\n",
    "total_samples = len(dataset)\n",
    "n_iter = math.ceil(total_samples/4)\n",
    "print(total_samples, n_iter)"
   ]
  },
  {
   "cell_type": "code",
   "execution_count": 13,
   "id": "4df93eb9-9c5b-4be9-b0a6-2f26177387f8",
   "metadata": {
    "tags": []
   },
   "outputs": [
    {
     "name": "stdout",
     "output_type": "stream",
     "text": [
      "Epoch 1/2, Step 5/45, inputs torch.Size([4, 13]) \n",
      "Epoch 1/2, Step 10/45, inputs torch.Size([4, 13]) \n",
      "Epoch 1/2, Step 15/45, inputs torch.Size([4, 13]) \n",
      "Epoch 1/2, Step 20/45, inputs torch.Size([4, 13]) \n",
      "Epoch 1/2, Step 25/45, inputs torch.Size([4, 13]) \n",
      "Epoch 1/2, Step 30/45, inputs torch.Size([4, 13]) \n",
      "Epoch 1/2, Step 35/45, inputs torch.Size([4, 13]) \n",
      "Epoch 1/2, Step 40/45, inputs torch.Size([4, 13]) \n",
      "Epoch 1/2, Step 45/45, inputs torch.Size([2, 13]) \n",
      "Epoch 2/2, Step 5/45, inputs torch.Size([4, 13]) \n",
      "Epoch 2/2, Step 10/45, inputs torch.Size([4, 13]) \n",
      "Epoch 2/2, Step 15/45, inputs torch.Size([4, 13]) \n",
      "Epoch 2/2, Step 20/45, inputs torch.Size([4, 13]) \n",
      "Epoch 2/2, Step 25/45, inputs torch.Size([4, 13]) \n",
      "Epoch 2/2, Step 30/45, inputs torch.Size([4, 13]) \n",
      "Epoch 2/2, Step 35/45, inputs torch.Size([4, 13]) \n",
      "Epoch 2/2, Step 40/45, inputs torch.Size([4, 13]) \n",
      "Epoch 2/2, Step 45/45, inputs torch.Size([2, 13]) \n"
     ]
    }
   ],
   "source": [
    "for epoch in range(num_epochs):\n",
    "    for i, (inputs, labels) in enumerate(data_loader):\n",
    "        # process\n",
    "        \n",
    "        if (i + 1) % 5 == 0:\n",
    "            print(f\"Epoch {epoch+1}/{num_epochs}, Step {i+1}/{n_iter}, inputs {inputs.shape} \")"
   ]
  }
 ],
 "metadata": {
  "kernelspec": {
   "display_name": "Python 3 (ipykernel)",
   "language": "python",
   "name": "python3"
  },
  "language_info": {
   "codemirror_mode": {
    "name": "ipython",
    "version": 3
   },
   "file_extension": ".py",
   "mimetype": "text/x-python",
   "name": "python",
   "nbconvert_exporter": "python",
   "pygments_lexer": "ipython3",
   "version": "3.11.4"
  }
 },
 "nbformat": 4,
 "nbformat_minor": 5
}
