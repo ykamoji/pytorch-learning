{
 "cells": [
  {
   "cell_type": "code",
   "execution_count": 1,
   "id": "6e3fe326-8e27-422b-a3f3-70cb5622babf",
   "metadata": {
    "tags": []
   },
   "outputs": [],
   "source": [
    "import torch\n",
    "import torch.nn as nn\n",
    "import torch.nn.functional as F\n",
    "import torchvision\n",
    "import torchvision.transforms as transforms\n",
    "import matplotlib.pyplot as plt\n",
    "import numpy as np"
   ]
  },
  {
   "cell_type": "code",
   "execution_count": 2,
   "id": "dde8d901-7c13-46f3-9819-16ac86d906a3",
   "metadata": {
    "tags": []
   },
   "outputs": [],
   "source": [
    "device = torch.device('mps')"
   ]
  },
  {
   "cell_type": "code",
   "execution_count": 33,
   "id": "3f7aee5d-04ca-4b97-bc60-ea29f6866233",
   "metadata": {
    "tags": []
   },
   "outputs": [],
   "source": [
    "num_epochs = 10\n",
    "batch_size = 4\n",
    "learning_rate = 0.001"
   ]
  },
  {
   "cell_type": "code",
   "execution_count": 23,
   "id": "e330b57b-0ccd-41bb-85a7-21ce3f8ff4d9",
   "metadata": {
    "tags": []
   },
   "outputs": [],
   "source": [
    "transform = transforms.Compose(\n",
    "    [transforms.ToTensor(),\n",
    "     transforms.Normalize((0.5, 0.5, 0.5), (0.5, 0.5, 0.5))])"
   ]
  },
  {
   "cell_type": "code",
   "execution_count": 28,
   "id": "4f71da53-caa6-422a-bd7f-2d02ca868b25",
   "metadata": {
    "tags": []
   },
   "outputs": [
    {
     "name": "stdout",
     "output_type": "stream",
     "text": [
      "Files already downloaded and verified\n",
      "Files already downloaded and verified\n"
     ]
    }
   ],
   "source": [
    "train_dataset = torchvision.datasets.CIFAR10(root='./data', train=True, download=True, transform=transform)\n",
    "test_dataset = torchvision.datasets.CIFAR10(root='./data', train=False, download=True, transform=transform)\n",
    "train_loader = torch.utils.data.DataLoader(train_dataset, batch_size=batch_size,shuffle=True)\n",
    "test_loader = torch.utils.data.DataLoader(test_dataset, batch_size=batch_size,shuffle=False)"
   ]
  },
  {
   "cell_type": "code",
   "execution_count": 9,
   "id": "30f5ff22-7582-441c-b019-ada07bdad956",
   "metadata": {
    "tags": []
   },
   "outputs": [],
   "source": [
    "classes = ('plane', 'car', 'bird', 'cat','deer', 'dog', 'frog', 'horse', 'ship', 'truck')"
   ]
  },
  {
   "cell_type": "code",
   "execution_count": 10,
   "id": "535fbb2f-387b-4496-8529-44b64fcb8bea",
   "metadata": {
    "tags": []
   },
   "outputs": [],
   "source": [
    "def imshow(img):\n",
    "    img = img / 2 + 0.5  # unnormalize\n",
    "    npimg = img.numpy()\n",
    "    plt.imshow(np.transpose(npimg, (1, 2, 0)))\n",
    "    plt.show()"
   ]
  },
  {
   "cell_type": "code",
   "execution_count": 11,
   "id": "0bb10468-fec0-48b1-9f6c-81dd9171654d",
   "metadata": {
    "tags": []
   },
   "outputs": [
    {
     "data": {
      "image/png": "[encoded data removed]",
      "text/plain": [
       "<Figure size 640x480 with 1 Axes>"
      ]
     },
     "metadata": {},
     "output_type": "display_data"
    }
   ],
   "source": [
    "dataiter = iter(train_loader)\n",
    "images, labels = next(dataiter)\n",
    "\n",
    "# show images\n",
    "imshow(torchvision.utils.make_grid(images))"
   ]
  },
  {
   "cell_type": "code",
   "execution_count": 12,
   "id": "1359ab55-c69b-43ae-8571-3d82d26b80c5",
   "metadata": {
    "tags": []
   },
   "outputs": [],
   "source": [
    "class ConvNet(nn.Module):\n",
    "    def __init__(self):\n",
    "        super(ConvNet, self).__init__()\n",
    "        self.conv1 = nn.Conv2d(3, 6, 5)\n",
    "        self.pool = nn.MaxPool2d(2, 2)\n",
    "        self.conv2 = nn.Conv2d(6, 16, 5)\n",
    "        self.fc1 = nn.Linear(16 * 5 * 5, 120)\n",
    "        self.fc2 = nn.Linear(120, 84)\n",
    "        self.fc3 = nn.Linear(84, 10)\n",
    "\n",
    "    def forward(self, x):\n",
    "        # -> n, 3, 32, 32\n",
    "        x = self.pool(F.relu(self.conv1(x)))  # -> n, 6, 14, 14\n",
    "        x = self.pool(F.relu(self.conv2(x)))  # -> n, 16, 5, 5\n",
    "        x = x.view(-1, 16 * 5 * 5)            # -> n, 400\n",
    "        x = F.relu(self.fc1(x))               # -> n, 120\n",
    "        x = F.relu(self.fc2(x))               # -> n, 84\n",
    "        x = self.fc3(x)                       # -> n, 10\n",
    "        return x"
   ]
  },
  {
   "cell_type": "code",
   "execution_count": 29,
   "id": "631ce335-8cb1-437a-9e92-ab15803db73d",
   "metadata": {
    "tags": []
   },
   "outputs": [],
   "source": [
    "model = ConvNet().to(device)\n",
    "criterion = nn.CrossEntropyLoss()\n",
    "optimizer = torch.optim.SGD(model.parameters(), lr=learning_rate)\n",
    "n_total_steps = len(train_loader)"
   ]
  },
  {
   "cell_type": "code",
   "execution_count": 30,
   "id": "5689e91d-e172-421e-b4f6-e3cb0590d61c",
   "metadata": {
    "tags": []
   },
   "outputs": [
    {
     "name": "stdout",
     "output_type": "stream",
     "text": [
      "Epoch [1/20], Step [6000/12500], Loss: 2.2886\n",
      "Epoch [1/20], Step [12000/12500], Loss: 1.8784\n",
      "Epoch [2/20], Step [6000/12500], Loss: 2.3424\n",
      "Epoch [2/20], Step [12000/12500], Loss: 1.4407\n",
      "Epoch [3/20], Step [6000/12500], Loss: 1.5057\n",
      "Epoch [3/20], Step [12000/12500], Loss: 2.2107\n",
      "Epoch [4/20], Step [6000/12500], Loss: 1.0933\n",
      "Epoch [4/20], Step [12000/12500], Loss: 1.3338\n",
      "Epoch [5/20], Step [6000/12500], Loss: 1.5008\n",
      "Epoch [5/20], Step [12000/12500], Loss: 1.7228\n",
      "Epoch [6/20], Step [6000/12500], Loss: 1.3374\n",
      "Epoch [6/20], Step [12000/12500], Loss: 2.3129\n",
      "Epoch [7/20], Step [6000/12500], Loss: 1.8429\n",
      "Epoch [7/20], Step [12000/12500], Loss: 1.8712\n",
      "Epoch [8/20], Step [6000/12500], Loss: 0.4452\n",
      "Epoch [8/20], Step [12000/12500], Loss: 1.5025\n",
      "Epoch [9/20], Step [6000/12500], Loss: 0.6625\n",
      "Epoch [9/20], Step [12000/12500], Loss: 0.7380\n",
      "Epoch [10/20], Step [6000/12500], Loss: 1.6895\n",
      "Epoch [10/20], Step [12000/12500], Loss: 0.9769\n",
      "Epoch [11/20], Step [6000/12500], Loss: 1.0698\n",
      "Epoch [11/20], Step [12000/12500], Loss: 1.1231\n",
      "Epoch [12/20], Step [6000/12500], Loss: 0.6658\n",
      "Epoch [12/20], Step [12000/12500], Loss: 0.7297\n",
      "Epoch [13/20], Step [6000/12500], Loss: 0.6126\n",
      "Epoch [13/20], Step [12000/12500], Loss: 0.2600\n",
      "Epoch [14/20], Step [6000/12500], Loss: 0.4823\n",
      "Epoch [14/20], Step [12000/12500], Loss: 0.8644\n",
      "Epoch [15/20], Step [6000/12500], Loss: 0.9104\n",
      "Epoch [15/20], Step [12000/12500], Loss: 0.7066\n",
      "Epoch [16/20], Step [6000/12500], Loss: 1.1779\n",
      "Epoch [16/20], Step [12000/12500], Loss: 2.8921\n",
      "Epoch [17/20], Step [6000/12500], Loss: 0.9636\n",
      "Epoch [17/20], Step [12000/12500], Loss: 0.9192\n",
      "Epoch [18/20], Step [6000/12500], Loss: 0.8708\n",
      "Epoch [18/20], Step [12000/12500], Loss: 1.4347\n",
      "Epoch [19/20], Step [6000/12500], Loss: 2.3097\n",
      "Epoch [19/20], Step [12000/12500], Loss: 0.7177\n",
      "Epoch [20/20], Step [6000/12500], Loss: 1.1293\n",
      "Epoch [20/20], Step [12000/12500], Loss: 1.3196\n"
     ]
    }
   ],
   "source": [
    "for epoch in range(num_epochs):\n",
    "    for i, (images, labels) in enumerate(train_loader):\n",
    "        # origin shape: [4, 3, 32, 32] = 4, 3, 1024\n",
    "        # input_layer: 3 input channels, 6 output channels, 5 kernel size\n",
    "        images = images.to(device)\n",
    "        labels = labels.to(device)\n",
    "\n",
    "        # Forward pass\n",
    "        outputs = model(images)\n",
    "        loss = criterion(outputs, labels)\n",
    "\n",
    "        # Backward and optimize\n",
    "        optimizer.zero_grad()\n",
    "        loss.backward()\n",
    "        optimizer.step()\n",
    "\n",
    "        if (i+1) % 6000 == 0:\n",
    "            print (f'Epoch [{epoch+1}/{num_epochs}], Step [{i+1}/{n_total_steps}], Loss: {loss.item():.4f}')"
   ]
  },
  {
   "cell_type": "code",
   "execution_count": 31,
   "id": "fbfc95e0-9262-475f-ad98-889fbf046cc0",
   "metadata": {
    "tags": []
   },
   "outputs": [
    {
     "name": "stdout",
     "output_type": "stream",
     "text": [
      "Finished Training\n"
     ]
    }
   ],
   "source": [
    "print('Finished Training')\n",
    "PATH = './cnn.pth'\n",
    "torch.save(model.state_dict(), PATH)"
   ]
  },
  {
   "cell_type": "code",
   "execution_count": 32,
   "id": "e54dc527-0cd4-48a9-92f0-ccab3d57afa3",
   "metadata": {
    "tags": []
   },
   "outputs": [
    {
     "name": "stdout",
     "output_type": "stream",
     "text": [
      "Accuracy of the network: 63.3 %\n",
      "Accuracy of plane: 71.5 %\n",
      "Accuracy of car: 73.5 %\n",
      "Accuracy of bird: 64.1 %\n",
      "Accuracy of cat: 49.1 %\n",
      "Accuracy of deer: 58.7 %\n",
      "Accuracy of dog: 40.2 %\n",
      "Accuracy of frog: 65.5 %\n",
      "Accuracy of horse: 68.3 %\n",
      "Accuracy of ship: 78.8 %\n",
      "Accuracy of truck: 63.3 %\n"
     ]
    }
   ],
   "source": [
    "with torch.no_grad():\n",
    "    n_correct = 0\n",
    "    n_samples = 0\n",
    "    n_class_correct = [0 for i in range(10)]\n",
    "    n_class_samples = [0 for i in range(10)]\n",
    "    for images, labels in test_loader:\n",
    "        images = images.to(device)\n",
    "        labels = labels.to(device)\n",
    "        outputs = model(images)\n",
    "        # max returns (value ,index)\n",
    "        _, predicted = torch.max(outputs, 1)\n",
    "        n_samples += labels.size(0)\n",
    "        n_correct += (predicted == labels).sum().item()\n",
    "        \n",
    "        for i in range(batch_size):\n",
    "            label = labels[i]\n",
    "            pred = predicted[i]\n",
    "            if label == pred: n_class_correct[label] += 1\n",
    "            n_class_samples[label] += 1\n",
    "\n",
    "    acc = 100.0 * n_correct / n_samples\n",
    "    print(f'Accuracy of the network: {acc} %')\n",
    "\n",
    "    for i in range(10):\n",
    "        acc = 100.0 * n_class_correct[i] / n_class_samples[i]\n",
    "        print(f'Accuracy of {classes[i]}: {acc} %')"
   ]
  }
 ],
 "metadata": {
  "kernelspec": {
   "display_name": "Python 3 (ipykernel)",
   "language": "python",
   "name": "python3"
  },
  "language_info": {
   "codemirror_mode": {
    "name": "ipython",
    "version": 3
   },
   "file_extension": ".py",
   "mimetype": "text/x-python",
   "name": "python",
   "nbconvert_exporter": "python",
   "pygments_lexer": "ipython3",
   "version": "3.11.4"
  }
 },
 "nbformat": 4,
 "nbformat_minor": 5
}
