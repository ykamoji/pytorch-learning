{
 "cells": [
  {
   "cell_type": "code",
   "execution_count": 234,
   "id": "6398175f-159f-4bb4-a9c3-ce1a68bb5497",
   "metadata": {
    "tags": []
   },
   "outputs": [],
   "source": [
    "# import numpy as np\n",
    "import torch\n",
    "import torch.nn as nn"
   ]
  },
  {
   "cell_type": "code",
   "execution_count": 431,
   "id": "eac18f45-ea59-400a-94e6-3eed0af212a6",
   "metadata": {
    "tags": []
   },
   "outputs": [
    {
     "name": "stdout",
     "output_type": "stream",
     "text": [
      "torch.Size([4, 1])\n"
     ]
    }
   ],
   "source": [
    "# f = wx + b\n",
    "# f = 2x + 1\n",
    "# X = np.array([1.0, 2.0, 3.0, 4.0])\n",
    "# Y = np.array([3.0, 5.0, 7.0, 9.0])\n",
    "# X = torch.tensor([1.0, 2.0, 3.0, 4.0])\n",
    "# Y = torch.tensor([3.0, 5.0, 7.0, 9.0])\n",
    "\n",
    "X = torch.tensor([[1.0], [2.0], [3.0], [4.0]])\n",
    "Y = torch.tensor([[3.0], [5.0], [7.0], [9.0]])\n",
    "\n",
    "print(X.shape)\n",
    "n_samples, n_features = X.shape"
   ]
  },
  {
   "cell_type": "code",
   "execution_count": 408,
   "id": "f6a29ac9-5294-4600-9e6f-8c52d5b7f4ee",
   "metadata": {
    "tags": []
   },
   "outputs": [],
   "source": [
    "# w = torch.tensor(0.0, requires_grad=True)\n",
    "# b = torch.tensor(0.0, requires_grad=True)\n",
    "X_test = torch.tensor([10], dtype=torch.float32)"
   ]
  },
  {
   "cell_type": "code",
   "execution_count": 7,
   "id": "f889a063-f8c8-49f7-9187-050f578f8c32",
   "metadata": {
    "tags": []
   },
   "outputs": [],
   "source": [
    "# def forward(x):\n",
    "#     return w*x + b"
   ]
  },
  {
   "cell_type": "code",
   "execution_count": 409,
   "id": "3ef56caf-ee24-4a97-b1a1-cd5b711b843b",
   "metadata": {
    "tags": []
   },
   "outputs": [],
   "source": [
    "# def loss(y, y_pred):\n",
    "#     return ( (y_pred - y)**2 ).mean()\n",
    "loss = nn.MSELoss()"
   ]
  },
  {
   "cell_type": "code",
   "execution_count": 10,
   "id": "1b1f170a-c66e-4747-af52-3873aa634a5d",
   "metadata": {
    "tags": []
   },
   "outputs": [],
   "source": [
    "# def gradient_w(x, y , y_pred):\n",
    "#     return np.dot(2*x, (y_pred-y)).mean()"
   ]
  },
  {
   "cell_type": "code",
   "execution_count": 16,
   "id": "7085730e-8a29-4220-a59c-a4dd5d2b714a",
   "metadata": {
    "tags": []
   },
   "outputs": [],
   "source": [
    "# def gradient_b(x, y , y_pred):\n",
    "#     return 2*(y_pred-y).mean()"
   ]
  },
  {
   "cell_type": "code",
   "execution_count": 432,
   "id": "cf174352-5966-440c-8917-f530400e3ef9",
   "metadata": {
    "tags": []
   },
   "outputs": [],
   "source": [
    "input_size = n_features\n",
    "output_size = n_features"
   ]
  },
  {
   "cell_type": "code",
   "execution_count": 433,
   "id": "baa965c3-8648-4a2f-8934-7774328440cc",
   "metadata": {
    "tags": []
   },
   "outputs": [],
   "source": [
    "model = nn.Linear(input_size, output_size)"
   ]
  },
  {
   "cell_type": "code",
   "execution_count": 434,
   "id": "f0ab0d3e-5ba5-476d-a2bf-1923a36810c6",
   "metadata": {
    "tags": []
   },
   "outputs": [
    {
     "name": "stdout",
     "output_type": "stream",
     "text": [
      "Prediction before training f(10) = -6.164857864379883\n"
     ]
    }
   ],
   "source": [
    "print(f\"Prediction before training f(10) = {model(X_test).item()}\")"
   ]
  },
  {
   "cell_type": "code",
   "execution_count": 435,
   "id": "4ede9d9d-6a23-48db-acdc-ba5bcbd49d8e",
   "metadata": {
    "tags": []
   },
   "outputs": [],
   "source": [
    "alpha = 0.01\n",
    "n_iter = 2000\n",
    "optimizer = torch.optim.SGD(model.parameters(), lr=alpha)"
   ]
  },
  {
   "cell_type": "code",
   "execution_count": 436,
   "id": "c42d60b9-0411-4067-84f4-a01a16daba9d",
   "metadata": {
    "tags": []
   },
   "outputs": [
    {
     "name": "stdout",
     "output_type": "stream",
     "text": [
      "Epoch 100: w = 2.076, b = 0.776, loss = 0.00842296\n",
      "Epoch 200: w = 2.056, b = 0.834, loss = 0.00462410\n",
      "Epoch 300: w = 2.042, b = 0.877, loss = 0.00253859\n",
      "Epoch 400: w = 2.031, b = 0.909, loss = 0.00139366\n",
      "Epoch 500: w = 2.023, b = 0.933, loss = 0.00076510\n",
      "Epoch 600: w = 2.017, b = 0.950, loss = 0.00042003\n",
      "Epoch 700: w = 2.013, b = 0.963, loss = 0.00023059\n",
      "Epoch 800: w = 2.009, b = 0.973, loss = 0.00012659\n",
      "Epoch 900: w = 2.007, b = 0.980, loss = 0.00006950\n",
      "Epoch 1000: w = 2.005, b = 0.985, loss = 0.00003815\n",
      "Epoch 1100: w = 2.004, b = 0.989, loss = 0.00002095\n",
      "Epoch 1200: w = 2.003, b = 0.992, loss = 0.00001150\n",
      "Epoch 1300: w = 2.002, b = 0.994, loss = 0.00000631\n",
      "Epoch 1400: w = 2.002, b = 0.995, loss = 0.00000347\n",
      "Epoch 1500: w = 2.001, b = 0.997, loss = 0.00000190\n",
      "Epoch 1600: w = 2.001, b = 0.998, loss = 0.00000105\n",
      "Epoch 1700: w = 2.001, b = 0.998, loss = 0.00000058\n",
      "Epoch 1800: w = 2.000, b = 0.999, loss = 0.00000032\n",
      "Epoch 1900: w = 2.000, b = 0.999, loss = 0.00000017\n",
      "Epoch 2000: w = 2.000, b = 0.999, loss = 0.00000010\n"
     ]
    }
   ],
   "source": [
    "for epoch in range(n_iter):\n",
    "    \n",
    "    # y_pred = forward(X)\n",
    "    y_pred = model(X)\n",
    "    \n",
    "    l = loss(Y, y_pred)\n",
    "    \n",
    "    # dw = gradient_w(X, Y, y_pred)\n",
    "    # db = gradient_b(X, Y, y_pred)\n",
    "\n",
    "    l.backward()\n",
    "    \n",
    "    # with torch.no_grad():\n",
    "    #     w -= alpha*w.grad\n",
    "    #     b -= alpha*b.grad\n",
    "    \n",
    "    optimizer.step()\n",
    "       \n",
    "    # w.grad.zero_()\n",
    "    # b.grad.zero_()\n",
    "    \n",
    "    optimizer.zero_grad()\n",
    "        \n",
    "    if (epoch + 1) % 100 == 0:\n",
    "        [w,b] = model.parameters()\n",
    "        print(f\"Epoch {epoch + 1}: w = {w[0][0]:.3f}, b = {b[0]:.3f}, loss = {l:.8f}\")"
   ]
  },
  {
   "cell_type": "code",
   "execution_count": 437,
   "id": "4f9f3ffb-f337-4f1c-adc7-c307413dac19",
   "metadata": {
    "tags": []
   },
   "outputs": [
    {
     "name": "stdout",
     "output_type": "stream",
     "text": [
      "Prediction after training f(10) = 21.002\n"
     ]
    }
   ],
   "source": [
    "print(f\"Prediction after training f(10) = {model(X_test).item():.3f}\")"
   ]
  }
 ],
 "metadata": {
  "kernelspec": {
   "display_name": "Python 3 (ipykernel)",
   "language": "python",
   "name": "python3"
  },
  "language_info": {
   "codemirror_mode": {
    "name": "ipython",
    "version": 3
   },
   "file_extension": ".py",
   "mimetype": "text/x-python",
   "name": "python",
   "nbconvert_exporter": "python",
   "pygments_lexer": "ipython3",
   "version": "3.11.4"
  }
 },
 "nbformat": 4,
 "nbformat_minor": 5
}
