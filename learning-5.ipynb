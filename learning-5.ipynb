{
 "cells": [
  {
   "cell_type": "code",
   "execution_count": 1,
   "id": "4413e713-b27b-46fa-b3cb-d679c3c2ac26",
   "metadata": {
    "tags": []
   },
   "outputs": [],
   "source": [
    "import torch\n",
    "import torch.nn as nn\n",
    "import torchvision\n",
    "import torchvision.transforms as transforms\n",
    "import matplotlib.pyplot as plt"
   ]
  },
  {
   "cell_type": "code",
   "execution_count": 2,
   "id": "d47e2ec5-a650-4b38-b5a7-09f6ebd3dfe6",
   "metadata": {
    "tags": []
   },
   "outputs": [],
   "source": [
    "from torch.utils.tensorboard import SummaryWriter"
   ]
  },
  {
   "cell_type": "code",
   "execution_count": 27,
   "id": "ac5f5b7b-0c10-4358-9b8a-0b1d1d8a2a86",
   "metadata": {
    "tags": []
   },
   "outputs": [],
   "source": [
    "writer = SummaryWriter(\"runs/mnist5\")"
   ]
  },
  {
   "cell_type": "code",
   "execution_count": 4,
   "id": "1cc43655-da2f-4ac5-b2fd-77a534860f51",
   "metadata": {
    "tags": []
   },
   "outputs": [],
   "source": [
    "device = torch.device('mps')"
   ]
  },
  {
   "cell_type": "code",
   "execution_count": 28,
   "id": "3bbf2dd3-146e-43c5-95c6-e75193e4d486",
   "metadata": {
    "tags": []
   },
   "outputs": [],
   "source": [
    "input_size = 784 # 24 x 24\n",
    "hidden_size = 100\n",
    "num_class = 10\n",
    "num_epochs = 30\n",
    "batch_size = 100\n",
    "lr = 0.001"
   ]
  },
  {
   "cell_type": "code",
   "execution_count": 6,
   "id": "e9f30d46-3587-4b54-9457-64bf5c2fd3f8",
   "metadata": {
    "tags": []
   },
   "outputs": [],
   "source": [
    "train_dataset = torchvision.datasets.MNIST(root='./data', train=True, transform=transforms.ToTensor(), download=True)\n",
    "test_dataset = torchvision.datasets.MNIST(root='./data', train=False, transform=transforms.ToTensor())"
   ]
  },
  {
   "cell_type": "code",
   "execution_count": 7,
   "id": "3c6f4de2-f356-4625-acda-ed77bdb849f9",
   "metadata": {
    "tags": []
   },
   "outputs": [],
   "source": [
    "train_loader = torch.utils.data.DataLoader(dataset=train_dataset, batch_size=batch_size, shuffle=True)\n",
    "test_loader = torch.utils.data.DataLoader(dataset=test_dataset, batch_size=batch_size, shuffle=False)"
   ]
  },
  {
   "cell_type": "code",
   "execution_count": 8,
   "id": "065bb5e6-a218-4926-b620-ba23cb983944",
   "metadata": {
    "tags": []
   },
   "outputs": [
    {
     "name": "stdout",
     "output_type": "stream",
     "text": [
      "torch.Size([100, 1, 28, 28])\n",
      "torch.Size([100])\n"
     ]
    },
    {
     "data": {
      "image/png": "[encoded data removed]",
      "text/plain": [
       "<Figure size 640x480 with 6 Axes>"
      ]
     },
     "metadata": {},
     "output_type": "display_data"
    }
   ],
   "source": [
    "examples = iter(train_loader)\n",
    "samples, labels = next(examples)\n",
    "print(samples.shape)\n",
    "print(labels.shape)\n",
    "for i in range(6):\n",
    "    plt.subplot(2,3,i+1)\n",
    "    plt.imshow(samples[i][0], cmap='gray')\n",
    "# plt.show()"
   ]
  },
  {
   "cell_type": "code",
   "execution_count": 9,
   "id": "838507a4-f462-47a4-ab9d-26d5abaa697e",
   "metadata": {
    "tags": []
   },
   "outputs": [],
   "source": [
    "img_grid = torchvision.utils.make_grid(samples)\n",
    "writer.add_image('images', img_grid, 0)"
   ]
  },
  {
   "cell_type": "code",
   "execution_count": 10,
   "id": "68c79b19-7973-418e-b15a-1bbca89e4659",
   "metadata": {
    "tags": []
   },
   "outputs": [],
   "source": [
    "class NuralNet(nn.Module):\n",
    "    def __init__(self, input_size, hidden_size, output_size):\n",
    "        super(NuralNet, self).__init__()\n",
    "        self.l1 = nn.Linear(input_size, hidden_size)\n",
    "        self.relu = nn.ReLU()\n",
    "        self.l2 = nn.Linear(hidden_size, output_size)\n",
    "    \n",
    "    def forward(self, x):\n",
    "        out = self.l1(x)\n",
    "        out = self.relu(out)\n",
    "        out = self.l2(out)\n",
    "        return out"
   ]
  },
  {
   "cell_type": "code",
   "execution_count": 29,
   "id": "9ff8f7fd-5fd4-4070-9f88-88a537615acc",
   "metadata": {
    "tags": []
   },
   "outputs": [],
   "source": [
    "model = NuralNet(input_size, hidden_size, num_class).to(device)\n",
    "criterion = nn.CrossEntropyLoss()\n",
    "optimizer = torch.optim.Adam(model.parameters(), lr=lr)\n",
    "n_total_steps = len(train_loader)"
   ]
  },
  {
   "cell_type": "code",
   "execution_count": 12,
   "id": "ba99503e-c95d-4e5a-8871-63f16268976e",
   "metadata": {
    "tags": []
   },
   "outputs": [],
   "source": [
    "writer.add_graph(model.cpu(), samples.reshape(-1, 28*28))"
   ]
  },
  {
   "cell_type": "code",
   "execution_count": 30,
   "id": "96f624fe-9c6c-4e80-93ec-e7d8da68a50d",
   "metadata": {
    "tags": []
   },
   "outputs": [
    {
     "name": "stdout",
     "output_type": "stream",
     "text": [
      "Epoch 1/30, Step 300/600, loss = 0.340646\n",
      "Epoch 1/30, Step 600/600, loss = 0.123187\n",
      "Epoch 2/30, Step 300/600, loss = 0.296114\n",
      "Epoch 2/30, Step 600/600, loss = 0.102885\n",
      "Epoch 3/30, Step 300/600, loss = 0.185122\n",
      "Epoch 3/30, Step 600/600, loss = 0.132312\n",
      "Epoch 4/30, Step 300/600, loss = 0.089423\n",
      "Epoch 4/30, Step 600/600, loss = 0.115253\n",
      "Epoch 5/30, Step 300/600, loss = 0.111323\n",
      "Epoch 5/30, Step 600/600, loss = 0.087706\n",
      "Epoch 6/30, Step 300/600, loss = 0.070117\n",
      "Epoch 6/30, Step 600/600, loss = 0.085459\n",
      "Epoch 7/30, Step 300/600, loss = 0.042322\n",
      "Epoch 7/30, Step 600/600, loss = 0.076444\n",
      "Epoch 8/30, Step 300/600, loss = 0.037112\n",
      "Epoch 8/30, Step 600/600, loss = 0.038664\n",
      "Epoch 9/30, Step 300/600, loss = 0.083594\n",
      "Epoch 9/30, Step 600/600, loss = 0.032122\n",
      "Epoch 10/30, Step 300/600, loss = 0.010991\n",
      "Epoch 10/30, Step 600/600, loss = 0.017584\n",
      "Epoch 11/30, Step 300/600, loss = 0.030224\n",
      "Epoch 11/30, Step 600/600, loss = 0.006136\n",
      "Epoch 12/30, Step 300/600, loss = 0.024344\n",
      "Epoch 12/30, Step 600/600, loss = 0.012201\n",
      "Epoch 13/30, Step 300/600, loss = 0.019435\n",
      "Epoch 13/30, Step 600/600, loss = 0.015773\n",
      "Epoch 14/30, Step 300/600, loss = 0.024572\n",
      "Epoch 14/30, Step 600/600, loss = 0.027487\n",
      "Epoch 15/30, Step 300/600, loss = 0.013728\n",
      "Epoch 15/30, Step 600/600, loss = 0.058586\n",
      "Epoch 16/30, Step 300/600, loss = 0.009090\n",
      "Epoch 16/30, Step 600/600, loss = 0.030852\n",
      "Epoch 17/30, Step 300/600, loss = 0.007196\n",
      "Epoch 17/30, Step 600/600, loss = 0.022542\n",
      "Epoch 18/30, Step 300/600, loss = 0.019112\n",
      "Epoch 18/30, Step 600/600, loss = 0.003228\n",
      "Epoch 19/30, Step 300/600, loss = 0.018018\n",
      "Epoch 19/30, Step 600/600, loss = 0.006939\n",
      "Epoch 20/30, Step 300/600, loss = 0.006283\n",
      "Epoch 20/30, Step 600/600, loss = 0.004150\n",
      "Epoch 21/30, Step 300/600, loss = 0.002791\n",
      "Epoch 21/30, Step 600/600, loss = 0.015620\n",
      "Epoch 22/30, Step 300/600, loss = 0.010111\n",
      "Epoch 22/30, Step 600/600, loss = 0.004329\n",
      "Epoch 23/30, Step 300/600, loss = 0.005244\n",
      "Epoch 23/30, Step 600/600, loss = 0.000427\n",
      "Epoch 24/30, Step 300/600, loss = 0.002039\n",
      "Epoch 24/30, Step 600/600, loss = 0.004550\n",
      "Epoch 25/30, Step 300/600, loss = 0.001996\n",
      "Epoch 25/30, Step 600/600, loss = 0.026895\n",
      "Epoch 26/30, Step 300/600, loss = 0.005591\n",
      "Epoch 26/30, Step 600/600, loss = 0.033900\n",
      "Epoch 27/30, Step 300/600, loss = 0.000978\n",
      "Epoch 27/30, Step 600/600, loss = 0.015205\n",
      "Epoch 28/30, Step 300/600, loss = 0.001268\n",
      "Epoch 28/30, Step 600/600, loss = 0.001751\n",
      "Epoch 29/30, Step 300/600, loss = 0.000601\n",
      "Epoch 29/30, Step 600/600, loss = 0.004373\n",
      "Epoch 30/30, Step 300/600, loss = 0.001688\n",
      "Epoch 30/30, Step 600/600, loss = 0.001459\n",
      "Accuracy = 97.85\n"
     ]
    }
   ],
   "source": [
    "model = model.to(device)\n",
    "running_loss = 0.0\n",
    "running_correct = 0\n",
    "for epoch in range(num_epochs):\n",
    "    for i, (images, labels) in enumerate(train_loader):\n",
    "        images = images.reshape(-1, 28*28).to(device)\n",
    "        labels = labels.to(device)\n",
    "        \n",
    "        outputs = model(images)\n",
    "        \n",
    "        loss = criterion(outputs, labels)\n",
    "        \n",
    "        optimizer.zero_grad()\n",
    "        \n",
    "        loss.backward()\n",
    "        \n",
    "        optimizer.step()\n",
    "        \n",
    "        running_loss += loss.item()\n",
    "        \n",
    "        _, predictions = torch.max(outputs, 1)\n",
    "        running_correct += (predictions == labels).sum().item()\n",
    "        \n",
    "        \n",
    "        if (i+1) % 300 == 0:\n",
    "            print(f\"Epoch {epoch+1}/{num_epochs}, Step {i+1}/{n_total_steps}, loss = {loss.item():5f}\")\n",
    "            writer.add_scalar('training loss', running_loss / 100, epoch*n_total_steps + i)\n",
    "            writer.add_scalar('accuracy', running_correct / 100, epoch*n_total_steps + i)\n",
    "            running_loss = 0.0\n",
    "            running_correct = 0\n",
    "            \n",
    "with torch.no_grad():\n",
    "    n_correct = 0\n",
    "    n_samples = 0\n",
    "    for images, labels in test_loader:\n",
    "        images = images.reshape(-1, 28*28).to(device)\n",
    "        labels = labels.to(device)\n",
    "        \n",
    "        outputs = model(images)\n",
    "        \n",
    "        _, predictions = torch.max(outputs, 1)\n",
    "        n_samples += labels.shape[0]\n",
    "        n_correct += (predictions == labels).sum().item()\n",
    "        \n",
    "    acc = 100*n_correct/n_samples\n",
    "    print(f\"Accuracy = {acc}\")"
   ]
  }
 ],
 "metadata": {
  "kernelspec": {
   "display_name": "Python 3 (ipykernel)",
   "language": "python",
   "name": "python3"
  },
  "language_info": {
   "codemirror_mode": {
    "name": "ipython",
    "version": 3
   },
   "file_extension": ".py",
   "mimetype": "text/x-python",
   "name": "python",
   "nbconvert_exporter": "python",
   "pygments_lexer": "ipython3",
   "version": "3.11.4"
  }
 },
 "nbformat": 4,
 "nbformat_minor": 5
}
