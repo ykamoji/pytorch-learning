{
 "cells": [
  {
   "cell_type": "code",
   "execution_count": 2,
   "id": "d550bb19-9db8-4625-a070-b6453552514a",
   "metadata": {
    "tags": []
   },
   "outputs": [],
   "source": [
    "import torch\n",
    "import torch.nn as nn\n",
    "import numpy as np\n",
    "from sklearn import datasets\n",
    "import matplotlib.pyplot as plt"
   ]
  },
  {
   "cell_type": "code",
   "execution_count": 21,
   "id": "99f05f99-e733-409a-a889-ce0690aa8a68",
   "metadata": {
    "tags": []
   },
   "outputs": [],
   "source": [
    "X_numpy , Y_numpy = datasets.make_regression(n_samples=100, n_features=1, noise=20, random_state=1)"
   ]
  },
  {
   "cell_type": "code",
   "execution_count": 22,
   "id": "b9d0f520-d8e5-4fe7-b379-0ed7ea295716",
   "metadata": {
    "tags": []
   },
   "outputs": [],
   "source": [
    "X = torch.from_numpy(X_numpy.astype(np.float32))\n",
    "Y = torch.from_numpy(Y_numpy.astype(np.float32))\n",
    "Y = Y.view(Y.shape[0],1)"
   ]
  },
  {
   "cell_type": "code",
   "execution_count": 23,
   "id": "c5b2daff-fc99-4eb4-b59b-aa30f9667cd5",
   "metadata": {
    "tags": []
   },
   "outputs": [
    {
     "name": "stdout",
     "output_type": "stream",
     "text": [
      "torch.Size([100, 1])\n"
     ]
    }
   ],
   "source": [
    "print(X.shape)\n",
    "n_samples, n_features = X.shape"
   ]
  },
  {
   "cell_type": "code",
   "execution_count": 24,
   "id": "6c6d9e98-236b-4052-a333-27a9f455d13c",
   "metadata": {
    "tags": []
   },
   "outputs": [],
   "source": [
    "input_size = n_features\n",
    "output_size = 1\n",
    "model = nn.Linear(input_size, output_size)"
   ]
  },
  {
   "cell_type": "code",
   "execution_count": 25,
   "id": "66d12e0b-2361-4af2-9a89-7595eaffaba1",
   "metadata": {
    "tags": []
   },
   "outputs": [],
   "source": [
    "criterion = nn.MSELoss()\n",
    "optimizer = torch.optim.SGD(model.parameters(),lr=0.01)"
   ]
  },
  {
   "cell_type": "code",
   "execution_count": 26,
   "id": "dbf3512c-3b68-40c7-bcbc-8624034ad15a",
   "metadata": {
    "tags": []
   },
   "outputs": [
    {
     "name": "stdout",
     "output_type": "stream",
     "text": [
      "Epoch 10: w = 11.713, b = 1.715, loss = 4430.33886719\n",
      "Epoch 20: w = 22.118, b = 2.872, loss = 3304.92724609\n",
      "Epoch 30: w = 30.985, b = 3.710, loss = 2490.49682617\n",
      "Epoch 40: w = 38.542, b = 4.303, loss = 1900.49340820\n",
      "Epoch 50: w = 44.985, b = 4.710, loss = 1472.65527344\n",
      "Epoch 60: w = 50.479, b = 4.977, loss = 1162.13049316\n",
      "Epoch 70: w = 55.164, b = 5.138, loss = 936.56414795\n",
      "Epoch 80: w = 59.160, b = 5.221, loss = 772.58563232\n",
      "Epoch 90: w = 62.569, b = 5.248, loss = 653.29522705\n",
      "Epoch 100: w = 65.478, b = 5.235, loss = 566.45837402\n"
     ]
    }
   ],
   "source": [
    "epochs = 100\n",
    "for epoch in range(epochs):\n",
    "    y_pred = model(X)\n",
    "    \n",
    "    loss = criterion(y_pred, Y)\n",
    "    \n",
    "    loss.backward()\n",
    "    \n",
    "    optimizer.step()\n",
    "    \n",
    "    optimizer.zero_grad()\n",
    "    \n",
    "    if (epoch + 1) % 10 == 0:\n",
    "        [w,b] = model.parameters()\n",
    "        print(f\"Epoch {epoch + 1}: w = {w[0][0]:.3f}, b = {b[0]:.3f}, loss = {loss:.8f}\")"
   ]
  },
  {
   "cell_type": "code",
   "execution_count": 38,
   "id": "67e7cf37-1fbb-4b0c-8976-98c0b7dc7a2f",
   "metadata": {
    "tags": []
   },
   "outputs": [
    {
     "data": {
      "image/png": "[encoded data removed]",
      "text/plain": [
       "<Figure size 640x480 with 1 Axes>"
      ]
     },
     "metadata": {},
     "output_type": "display_data"
    }
   ],
   "source": [
    "predicted = model(X).detach().numpy()\n",
    "plt.plot(X_numpy, Y_numpy, 'ro')\n",
    "plt.plot(X_numpy, predicted, 'b')\n",
    "plt.show()"
   ]
  }
 ],
 "metadata": {
  "kernelspec": {
   "display_name": "Python 3 (ipykernel)",
   "language": "python",
   "name": "python3"
  },
  "language_info": {
   "codemirror_mode": {
    "name": "ipython",
    "version": 3
   },
   "file_extension": ".py",
   "mimetype": "text/x-python",
   "name": "python",
   "nbconvert_exporter": "python",
   "pygments_lexer": "ipython3",
   "version": "3.11.4"
  }
 },
 "nbformat": 4,
 "nbformat_minor": 5
}
